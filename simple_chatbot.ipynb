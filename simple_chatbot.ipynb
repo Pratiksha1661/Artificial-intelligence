{
  "nbformat": 4,
  "nbformat_minor": 0,
  "metadata": {
    "colab": {
      "provenance": []
    },
    "kernelspec": {
      "name": "python3",
      "display_name": "Python 3"
    },
    "language_info": {
      "name": "python"
    }
  },
  "cells": [
    {
      "cell_type": "code",
      "execution_count": null,
      "metadata": {
        "colab": {
          "base_uri": "https://localhost:8080/"
        },
        "id": "Zf1pR7icklGD",
        "outputId": "1c5eeb9e-79ed-4564-8e00-f4153cb06669"
      },
      "outputs": [
        {
          "output_type": "stream",
          "name": "stdout",
          "text": [
            "You: hi\n",
            "Bot: Hello!\n",
            "You: bye\n",
            "Bot: Bye! Have a great day.\n",
            "You: see u\n",
            "Bot: I'm not sure what you mean. Could you please provide more context?\n"
          ]
        }
      ],
      "source": [
        "# import required libraries\n",
        "import random\n",
        "\n",
        "# define bot's responses\n",
        "responses = {\n",
        "    \"hi\": [\"Hello!\", \"Hi there!\", \"Hi! How can I assist you?\"],\n",
        "    \"bye\": [\"Goodbye!\", \"See you later!\", \"Bye! Have a great day.\"],\n",
        "    \"default\": [\"I'm sorry, I didn't understand what you meant. Can you please rephrase?\",\n",
        "                \"I'm not sure what you mean. Could you please provide more context?\"]\n",
        "}\n",
        "\n",
        "# define function to generate bot's response\n",
        "def get_bot_response(user_message):\n",
        "    if user_message in responses:\n",
        "        return random.choice(responses[user_message])\n",
        "    else:\n",
        "        return random.choice(responses[\"default\"])\n",
        "\n",
        "# start chatting with the bot\n",
        "while True:\n",
        "    user_message = input(\"You: \")\n",
        "    if user_message.lower() == \"quit\":\n",
        "        break\n",
        "    bot_response = get_bot_response(user_message.lower())\n",
        "    print(\"Bot: \" + bot_response)\n"
      ]
    }
  ]
}